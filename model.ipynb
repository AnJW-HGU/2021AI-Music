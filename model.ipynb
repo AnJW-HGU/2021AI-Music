{
 "cells": [
  {
   "cell_type": "code",
   "execution_count": 1,
   "id": "48f92a88-f7e5-4416-b724-1238809562b3",
   "metadata": {},
   "outputs": [
    {
     "name": "stderr",
     "output_type": "stream",
     "text": [
      "C:\\Users\\User\\anaconda3\\lib\\site-packages\\xgboost\\sklearn.py:1224: UserWarning: The use of label encoder in XGBClassifier is deprecated and will be removed in a future release. To remove this warning, do the following: 1) Pass option use_label_encoder=False when constructing XGBClassifier object; and 2) Encode your labels (y) as integers starting with 0, i.e. 0, 1, 2, ..., [num_class - 1].\n",
      "  warnings.warn(label_encoder_deprecation_msg, UserWarning)\n"
     ]
    },
    {
     "name": "stdout",
     "output_type": "stream",
     "text": [
      "[00:23:03] WARNING: C:/Users/Administrator/workspace/xgboost-win64_release_1.5.1/src/learner.cc:1115: Starting in XGBoost 1.3.0, the default evaluation metric used with the objective 'multi:softprob' was changed from 'merror' to 'mlogloss'. Explicitly set eval_metric if you'd like to restore the old behavior.\n",
      "Accuracy: 0.90\n"
     ]
    }
   ],
   "source": [
    "import pandas as pd\n",
    "import sklearn\n",
    "from sklearn.model_selection import train_test_split\n",
    "from xgboost import XGBClassifier\n",
    "from sklearn.metrics import accuracy_score\n",
    "\n",
    "df = pd.read_csv('Data/features_3_sec.csv')\n",
    "\n",
    "X = df.drop(columns=['filename', 'length', 'label'])\n",
    "y = df['label']\n",
    "\n",
    "scaler = sklearn.preprocessing.MinMaxScaler()\n",
    "np_scaled = scaler.fit_transform(X)\n",
    "\n",
    "X = pd.DataFrame(np_scaled, columns=X.columns)\n",
    "\n",
    "X_train, X_test, y_train, y_test = train_test_split(X, y, test_size=0.2, random_state=2021)\n",
    "\n",
    "xgb = XGBClassifier(n_estimators=1000, learning_rate=0.05)\n",
    "xgb.fit(X_train, y_train)\n",
    "\n",
    "y_preds = xgb.predict(X_test)\n",
    "\n",
    "print('Accuracy: %.2f' % accuracy_score(y_test, y_preds))"
   ]
  },
  {
   "cell_type": "code",
   "execution_count": 2,
   "id": "8b5b2088-6aaa-4140-8220-2f14a61d4cd8",
   "metadata": {},
   "outputs": [],
   "source": [
    "df_30 = pd.read_csv('Data/features_30_sec.csv', index_col='filename')\n",
    "\n",
    "labels = df_30[['label']]\n",
    "df_30 = df_30.drop(columns=['length', 'label'])\n",
    "\n",
    "df_30_scaled = sklearn.preprocessing.scale(df_30)\n",
    "\n",
    "df_30 = pd.DataFrame(df_30_scaled, columns=df_30.columns)\n",
    "\n",
    "from sklearn.metrics.pairwise import cosine_similarity\n",
    "\n",
    "similarity = cosine_similarity(df_30)\n",
    "\n",
    "sim_df = pd.DataFrame(similarity, index=labels.index, columns=labels.index)\n",
    "\n",
    "def find_similar_songs(name, n=5):\n",
    "  series = sim_df[name].sort_values(ascending=False)\n",
    "  series = series.drop(name)\n",
    "  return series.head(n).to_frame()"
   ]
  },
  {
   "cell_type": "code",
   "execution_count": 4,
   "id": "f0399b30-abc9-452f-87e5-35f012d12a55",
   "metadata": {},
   "outputs": [],
   "source": [
    "import pickle\n",
    "\n",
    "pickle.dump(sim_df, open('project/musicModel.pkl', 'wb'))"
   ]
  },
  {
   "cell_type": "code",
   "execution_count": 5,
   "id": "25fa300e-052f-48f9-a662-aee75b4a8b85",
   "metadata": {},
   "outputs": [
    {
     "data": {
      "text/html": [
       "<div>\n",
       "<style scoped>\n",
       "    .dataframe tbody tr th:only-of-type {\n",
       "        vertical-align: middle;\n",
       "    }\n",
       "\n",
       "    .dataframe tbody tr th {\n",
       "        vertical-align: top;\n",
       "    }\n",
       "\n",
       "    .dataframe thead th {\n",
       "        text-align: right;\n",
       "    }\n",
       "</style>\n",
       "<table border=\"1\" class=\"dataframe\">\n",
       "  <thead>\n",
       "    <tr style=\"text-align: right;\">\n",
       "      <th></th>\n",
       "      <th>country.00050.wav</th>\n",
       "    </tr>\n",
       "    <tr>\n",
       "      <th>filename</th>\n",
       "      <th></th>\n",
       "    </tr>\n",
       "  </thead>\n",
       "  <tbody>\n",
       "    <tr>\n",
       "      <th>country.00086.wav</th>\n",
       "      <td>0.764860</td>\n",
       "    </tr>\n",
       "    <tr>\n",
       "      <th>country.00088.wav</th>\n",
       "      <td>0.747647</td>\n",
       "    </tr>\n",
       "    <tr>\n",
       "      <th>country.00054.wav</th>\n",
       "      <td>0.670662</td>\n",
       "    </tr>\n",
       "    <tr>\n",
       "      <th>country.00085.wav</th>\n",
       "      <td>0.670312</td>\n",
       "    </tr>\n",
       "    <tr>\n",
       "      <th>country.00056.wav</th>\n",
       "      <td>0.668949</td>\n",
       "    </tr>\n",
       "  </tbody>\n",
       "</table>\n",
       "</div>"
      ],
      "text/plain": [
       "                   country.00050.wav\n",
       "filename                            \n",
       "country.00086.wav           0.764860\n",
       "country.00088.wav           0.747647\n",
       "country.00054.wav           0.670662\n",
       "country.00085.wav           0.670312\n",
       "country.00056.wav           0.668949"
      ]
     },
     "execution_count": 5,
     "metadata": {},
     "output_type": "execute_result"
    }
   ],
   "source": [
    "find_similar_songs('country.00050.wav')"
   ]
  }
 ],
 "metadata": {
  "kernelspec": {
   "display_name": "Python 3",
   "language": "python",
   "name": "python3"
  },
  "language_info": {
   "codemirror_mode": {
    "name": "ipython",
    "version": 3
   },
   "file_extension": ".py",
   "mimetype": "text/x-python",
   "name": "python",
   "nbconvert_exporter": "python",
   "pygments_lexer": "ipython3",
   "version": "3.8.8"
  }
 },
 "nbformat": 4,
 "nbformat_minor": 5
}
